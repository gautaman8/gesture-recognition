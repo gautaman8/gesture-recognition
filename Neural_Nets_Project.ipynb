{
  "cells": [
    {
      "cell_type": "markdown",
      "metadata": {
        "colab_type": "text",
        "id": "view-in-github"
      },
      "source": [
        "<a href=\"https://colab.research.google.com/github/gautaman8/gesture-recognition/blob/main/Neural_Nets_Project_Starter_Code.ipynb\" target=\"_parent\"><img src=\"https://colab.research.google.com/assets/colab-badge.svg\" alt=\"Open In Colab\"/></a>"
      ]
    },
    {
      "cell_type": "markdown",
      "metadata": {
        "id": "Md5HPuQ2G7ty"
      },
      "source": [
        "# Gesture Recognition\n",
        "In this group project, you are going to build a 3D Conv model that will be able to predict the 5 gestures correctly. Please import the following libraries to get started."
      ]
    },
    {
      "cell_type": "code",
      "execution_count": 1,
      "metadata": {},
      "outputs": [
        {
          "name": "stdout",
          "output_type": "stream",
          "text": [
            "Collecting absl-py==2.0.0\n",
            "  Using cached absl_py-2.0.0-py3-none-any.whl (130 kB)\n",
            "Requirement already satisfied: astunparse==1.6.3 in /usr/local/lib/python3.8/dist-packages (from -r requirements.txt (line 2)) (1.6.3)\n",
            "Collecting cachetools==5.3.2\n",
            "  Using cached cachetools-5.3.2-py3-none-any.whl (9.3 kB)\n",
            "Collecting certifi==2023.7.22\n",
            "  Using cached certifi-2023.7.22-py3-none-any.whl (158 kB)\n",
            "Collecting charset-normalizer==3.3.2\n",
            "  Using cached charset_normalizer-3.3.2-cp38-cp38-manylinux_2_17_x86_64.manylinux2014_x86_64.whl (141 kB)\n",
            "Collecting flatbuffers==23.5.26\n",
            "  Using cached flatbuffers-23.5.26-py2.py3-none-any.whl (26 kB)\n",
            "Requirement already satisfied: gast==0.4.0 in /usr/local/lib/python3.8/dist-packages (from -r requirements.txt (line 7)) (0.4.0)\n",
            "Collecting google-auth==2.23.4\n",
            "  Using cached google_auth-2.23.4-py2.py3-none-any.whl (183 kB)\n",
            "Collecting google-auth-oauthlib==1.0.0\n",
            "  Using cached google_auth_oauthlib-1.0.0-py2.py3-none-any.whl (18 kB)\n",
            "Requirement already satisfied: google-pasta==0.2.0 in /usr/local/lib/python3.8/dist-packages (from -r requirements.txt (line 10)) (0.2.0)\n",
            "Collecting grpcio==1.59.2\n",
            "  Using cached grpcio-1.59.2-cp38-cp38-manylinux_2_17_x86_64.manylinux2014_x86_64.whl (5.3 MB)\n",
            "Collecting h5py==3.10.0\n",
            "  Using cached h5py-3.10.0-cp38-cp38-manylinux_2_17_x86_64.manylinux2014_x86_64.whl (4.8 MB)\n",
            "Collecting idna==3.4\n",
            "  Using cached idna-3.4-py3-none-any.whl (61 kB)\n",
            "Collecting imageio==2.32.0\n",
            "  Using cached imageio-2.32.0-py3-none-any.whl (313 kB)\n",
            "Collecting importlib-metadata==6.8.0\n",
            "  Using cached importlib_metadata-6.8.0-py3-none-any.whl (22 kB)\n",
            "Collecting keras==2.13.1\n",
            "  Using cached keras-2.13.1-py3-none-any.whl (1.7 MB)\n",
            "Collecting lazy-loader==0.3\n",
            "  Using cached lazy_loader-0.3-py3-none-any.whl (9.1 kB)\n",
            "Collecting libclang==16.0.6\n",
            "  Using cached libclang-16.0.6-py2.py3-none-manylinux2010_x86_64.whl (22.9 MB)\n",
            "Collecting Markdown==3.5.1\n",
            "  Using cached Markdown-3.5.1-py3-none-any.whl (102 kB)\n",
            "Collecting MarkupSafe==2.1.3\n",
            "  Using cached MarkupSafe-2.1.3-cp38-cp38-manylinux_2_17_x86_64.manylinux2014_x86_64.whl (25 kB)\n",
            "Collecting networkx==3.1\n",
            "  Using cached networkx-3.1-py3-none-any.whl (2.1 MB)\n",
            "Collecting numpy==1.24.3\n",
            "  Using cached numpy-1.24.3-cp38-cp38-manylinux_2_17_x86_64.manylinux2014_x86_64.whl (17.3 MB)\n",
            "Collecting oauthlib==3.2.2\n",
            "  Using cached oauthlib-3.2.2-py3-none-any.whl (151 kB)\n",
            "Requirement already satisfied: opt-einsum==3.3.0 in /usr/local/lib/python3.8/dist-packages (from -r requirements.txt (line 24)) (3.3.0)\n",
            "Collecting packaging==23.2\n",
            "  Using cached packaging-23.2-py3-none-any.whl (53 kB)\n",
            "Collecting Pillow==10.0.1\n",
            "  Using cached Pillow-10.0.1-cp38-cp38-manylinux_2_28_x86_64.whl (3.6 MB)\n",
            "Collecting protobuf==4.25.0\n",
            "  Using cached protobuf-4.25.0-cp37-abi3-manylinux2014_x86_64.whl (294 kB)\n",
            "Collecting pyasn1==0.5.0\n",
            "  Using cached pyasn1-0.5.0-py2.py3-none-any.whl (83 kB)\n",
            "Collecting pyasn1-modules==0.3.0\n",
            "  Using cached pyasn1_modules-0.3.0-py2.py3-none-any.whl (181 kB)\n",
            "Collecting PyWavelets==1.4.1\n",
            "  Using cached PyWavelets-1.4.1-cp38-cp38-manylinux_2_17_x86_64.manylinux2014_x86_64.whl (6.9 MB)\n",
            "Collecting requests==2.31.0\n",
            "  Using cached requests-2.31.0-py3-none-any.whl (62 kB)\n",
            "Requirement already satisfied: requests-oauthlib==1.3.1 in /usr/local/lib/python3.8/dist-packages (from -r requirements.txt (line 32)) (1.3.1)\n",
            "Collecting rsa==4.9\n",
            "  Using cached rsa-4.9-py3-none-any.whl (34 kB)\n",
            "Collecting scikit-image==0.21.0\n",
            "  Using cached scikit_image-0.21.0-cp38-cp38-manylinux_2_17_x86_64.manylinux2014_x86_64.whl (13.9 MB)\n",
            "Collecting scipy==1.10.1\n",
            "  Using cached scipy-1.10.1-cp38-cp38-manylinux_2_17_x86_64.manylinux2014_x86_64.whl (34.5 MB)\n",
            "Collecting six==1.16.0\n",
            "  Using cached six-1.16.0-py2.py3-none-any.whl (11 kB)\n",
            "Collecting tensorboard==2.13.0\n",
            "  Using cached tensorboard-2.13.0-py3-none-any.whl (5.6 MB)\n",
            "Collecting tensorboard-data-server==0.7.2\n",
            "  Using cached tensorboard_data_server-0.7.2-py3-none-manylinux_2_31_x86_64.whl (6.6 MB)\n",
            "Collecting tensorflow==2.13.1\n",
            "  Using cached tensorflow-2.13.1-cp38-cp38-manylinux_2_17_x86_64.manylinux2014_x86_64.whl (479.6 MB)\n",
            "Collecting tensorflow-estimator==2.13.0\n",
            "  Using cached tensorflow_estimator-2.13.0-py2.py3-none-any.whl (440 kB)\n",
            "Collecting tensorflow-io-gcs-filesystem==0.34.0\n",
            "  Using cached tensorflow_io_gcs_filesystem-0.34.0-cp38-cp38-manylinux_2_12_x86_64.manylinux2010_x86_64.whl (2.4 MB)\n",
            "Collecting termcolor==2.3.0\n",
            "  Using cached termcolor-2.3.0-py3-none-any.whl (6.9 kB)\n",
            "Collecting tifffile==2023.7.10\n",
            "  Using cached tifffile-2023.7.10-py3-none-any.whl (220 kB)\n",
            "Collecting typing-extensions==4.5.0\n",
            "  Using cached typing_extensions-4.5.0-py3-none-any.whl (27 kB)\n",
            "Collecting urllib3==2.1.0\n",
            "  Using cached urllib3-2.1.0-py3-none-any.whl (104 kB)\n",
            "Collecting werkzeug==3.0.1\n",
            "  Using cached werkzeug-3.0.1-py3-none-any.whl (226 kB)\n",
            "Collecting wrapt==1.16.0\n",
            "  Using cached wrapt-1.16.0-cp38-cp38-manylinux_2_5_x86_64.manylinux1_x86_64.manylinux_2_17_x86_64.manylinux2014_x86_64.whl (83 kB)\n",
            "Collecting zipp==3.17.0\n",
            "  Using cached zipp-3.17.0-py3-none-any.whl (7.4 kB)\n",
            "\u001b[31mERROR: Could not find a version that satisfies the requirement cv2 (from versions: none)\u001b[0m\u001b[31m\n",
            "\u001b[0m\u001b[31mERROR: No matching distribution found for cv2\u001b[0m\u001b[31m\n",
            "\u001b[0m\u001b[33mWARNING: You are using pip version 22.0.3; however, version 23.3.1 is available.\n",
            "You should consider upgrading via the '/usr/bin/python -m pip install --upgrade pip' command.\u001b[0m\u001b[33m\n",
            "\u001b[0m"
          ]
        }
      ],
      "source": [
        "!pip install -r requirements.txt"
      ]
    },
    {
      "cell_type": "code",
      "execution_count": 2,
      "metadata": {
        "id": "Y45MDuVrG7t0"
      },
      "outputs": [],
      "source": [
        "import numpy as np\n",
        "import os\n",
        "# from scipy.misc import  imresize\n",
        "from imageio import imread\n",
        "# imresize in starter code needs to be replaced with the below method in skimage library\n",
        "from skimage.transform import resize"
      ]
    },
    {
      "cell_type": "markdown",
      "metadata": {
        "id": "EnRIfexeG7t0"
      },
      "source": [
        "We set the random seed so that the results don't vary drastically."
      ]
    },
    {
      "cell_type": "code",
      "execution_count": 3,
      "metadata": {
        "id": "V57PHHYiG7t1"
      },
      "outputs": [],
      "source": [
        "np.random.seed(30)\n",
        "import random as rn\n",
        "rn.seed(30)\n",
        "from keras import backend as K\n",
        "import tensorflow as tf\n",
        "tf.random.set_seed(30)"
      ]
    },
    {
      "cell_type": "markdown",
      "metadata": {
        "id": "UcsdLp33G7t1"
      },
      "source": [
        "In this block, you read the folder names for training and validation. You also set the `batch_size` here. Note that you set the batch size in such a way that you are able to use the GPU in full capacity. You keep increasing the batch size until the machine throws an error."
      ]
    },
    {
      "cell_type": "markdown",
      "metadata": {},
      "source": [
        "# Experiment #1"
      ]
    },
    {
      "cell_type": "code",
      "execution_count": 4,
      "metadata": {
        "id": "Hgxo3a2bG7t1"
      },
      "outputs": [],
      "source": [
        "train_doc = np.random.permutation(open('notebooks/storage/Final_data/Collated_training/train.csv').readlines())\n",
        "val_doc = np.random.permutation(open('notebooks/storage/Final_data/Collated_training/val.csv').readlines())\n",
        "batch_size = 8"
      ]
    },
    {
      "cell_type": "markdown",
      "metadata": {
        "id": "Uyjd1ZSvG7t1"
      },
      "source": [
        "## Generator\n",
        "This is one of the most important part of the code. The overall structure of the generator has been given. In the generator, you are going to preprocess the images as you have images of 2 different dimensions as well as create a batch of video frames. You have to experiment with `img_idx`, `y`,`z` and normalization such that you get high accuracy."
      ]
    },
    {
      "cell_type": "code",
      "execution_count": 69,
      "metadata": {
        "id": "pZlA2L-3G7t2"
      },
      "outputs": [],
      "source": [
        "from skimage import io, color, exposure\n",
        "def generator(source_path, folder_list, batch_size):\n",
        "    print( 'Source path = ', source_path, '; batch size =', batch_size)\n",
        "    img_idx = range(30)\n",
        "    x, y, z = 30, 120, 160\n",
        "    while True:\n",
        "        t = np.random.permutation(folder_list)\n",
        "        num_batches = 30\n",
        "        for batch in range(num_batches): # we iterate over the number of batches\n",
        "            \n",
        "            batch_data = np.zeros((batch_size,x,y,z,1)) # x is the number of images you use for each video, (y,z) is the final size of the input images and 3 is the number of channels RGB\n",
        "            batch_labels = np.zeros((batch_size,5)) # batch_labels is the one hot representation of the output\n",
        "            for folder in range(batch_size): # iterate over the batch_size\n",
        "                if folder + (batch * batch_size) >= len(folder_list):\n",
        "                    break\n",
        "                try:\n",
        "                    imgs = os.listdir(source_path+'/'+ t[folder + (batch*batch_size)].split(';')[0]) # read all the images in the folder\n",
        "                except StopIteration:\n",
        "                    break\n",
        "                for idx,item in enumerate(img_idx): #  Iterate iver the frames/images of a folder to read them in\n",
        "                    image = imread(source_path+'/'+ t[folder + (batch*batch_size)].strip().split(';')[0]+'/'+imgs[item]).astype(np.float32)\n",
        "\n",
        "\n",
        "                    #crop the images and resize them. Note that the images are of 2 different shape\n",
        "                    #and the conv3D will throw error if the inputs in a batch have different shapes\n",
        "                    height, width, channels = image.shape\n",
        "\n",
        "                    if height == 360: \n",
        "                        new_width = int((160/height)* width)\n",
        "\n",
        "                        image = resize(image, (new_width, 160))\n",
        "                        crop_left = int((new_width - 120)/2)\n",
        "                        crop_right = (new_width - crop_left)\n",
        "                        image = image[crop_left:crop_right, :, :]\n",
        "\n",
        "                    \n",
        "                    if channels == 3: \n",
        "                        image = color.rgb2gray(image)\n",
        "                    \n",
        "                    # Additional histogram based preprocessing \n",
        "                    preprocessed_image = exposure.equalize_hist(image)\n",
        "                    # converting color(rgb) to gray to simplify data processing\n",
        "                    # batch_data[folder,idx,:,:,0] = #normalise and feed in the image\n",
        "                    \n",
        "                    normalized_image = (preprocessed_image - preprocessed_image.min()) / (preprocessed_image.max() - preprocessed_image.min())\n",
        "                    batch_data[folder,idx,:,:,0] = normalized_image\n",
        "                    # batch_data[folder,idx,:,:,2] = #normalise and feed in the image\n",
        "\n",
        "                batch_labels[folder, int(t[folder + (batch*batch_size)].strip().split(';')[2])] = 1\n",
        "            yield batch_data, batch_labels #you yield the batch_data and the batch_labels, remember what does yield do\n",
        "\n",
        "\n",
        "        # write the code for the remaining data points which are left after full batches\n",
        "        remaining_data_points = len(folder_list) % batch_size\n",
        "        if remaining_data_points > 0: \n",
        "            batch_data_remaining = np.zeros((remaining_data_points, x, y, z, 1))\n",
        "            batch_labels_remaining = np.zeros((remaining_data_points, 5))\n",
        "\n",
        "            for folder in range(remaining_data_points):\n",
        "                if folder + (batch * batch_size) >= len(folder_list):\n",
        "                    break\n",
        "                try:\n",
        "                    imgs = os.listdir(source_path+'/'+ t[folder + (batch*batch_size)].split(';')[0]) # read all the images in the folder\n",
        "                except StopIteration:\n",
        "                    break\n",
        "                imgs = os.listdir(source_path + '/' + t[folder + (num_batches * batch_size)].split(';')[0])\n",
        "\n",
        "                for idx, item in enumerate(img_idx):\n",
        "                    image = io.imread(source_path + '/' + t[folder + (num_batches * batch_size)].strip().split(';')[0] + '/' + imgs[item])\n",
        "                    #crop the images and resize them. Note that the images are of 2 different shape\n",
        "                    #and the conv3D will throw error if the inputs in a batch have different shapes\n",
        "                    height, width, channels = image.shape\n",
        "\n",
        "                    if height == 360: \n",
        "                        new_width = int((160/height)* width)\n",
        "\n",
        "                        image = resize(image, (new_width, 160))\n",
        "                        crop_left = int((new_width - 120)/2)\n",
        "                        crop_right = (new_width - crop_left)\n",
        "                        image = image[crop_left:crop_right,:, :]\n",
        "\n",
        "                    \n",
        "                    if channels == 3: \n",
        "                        image = color.rgb2gray(image)\n",
        "                    \n",
        "                    # Additional histogram based preprocessing \n",
        "                    preprocessed_image = exposure.equalize_hist(image)\n",
        "                    # converting color(rgb) to gray to simplify data processing\n",
        "                    # batch_data[folder,idx,:,:,0] = #normalise and feed in the image\n",
        "                    \n",
        "                    normalized_image = (preprocessed_image - preprocessed_image.min()) / (preprocessed_image.max() - preprocessed_image.min())\n",
        "                    batch_data_remaining[folder, idx, :, :, 0] = normalized_image\n",
        "\n",
        "                batch_labels_remaining[folder, int(t[folder + (num_batches * batch_size)].strip().split(';')[2])] = 1\n",
        "            yield batch_data_remaining, batch_labels_remaining"
      ]
    },
    {
      "cell_type": "markdown",
      "metadata": {
        "id": "jGYCoutuG7t2"
      },
      "source": [
        "Note here that a video is represented above in the generator as (number of images, height, width, number of channels). Take this into consideration while creating the model architecture."
      ]
    },
    {
      "cell_type": "code",
      "execution_count": 70,
      "metadata": {
        "id": "q7W_VthRG7t2"
      },
      "outputs": [
        {
          "name": "stdout",
          "output_type": "stream",
          "text": [
            "# training sequences = 663\n",
            "# validation sequences = 100\n",
            "# epochs = 10\n"
          ]
        }
      ],
      "source": [
        "import datetime\n",
        "curr_dt_time = datetime.datetime.now()\n",
        "train_path = 'notebooks/storage/Final_data/Collated_training/train'\n",
        "val_path = 'notebooks/storage/Final_data/Collated_training/val'\n",
        "num_train_sequences = len(train_doc)\n",
        "print('# training sequences =', num_train_sequences)\n",
        "num_val_sequences = len(val_doc)\n",
        "print('# validation sequences =', num_val_sequences)\n",
        "num_epochs = 10\n",
        "print ('# epochs =', num_epochs)"
      ]
    },
    {
      "cell_type": "markdown",
      "metadata": {
        "id": "kO0zCH4YG7t2"
      },
      "source": [
        "## Model\n",
        "Here you make the model using different functionalities that Keras provides. Remember to use `Conv3D` and `MaxPooling3D` and not `Conv2D` and `Maxpooling2D` for a 3D convolution model. You would want to use `TimeDistributed` while building a Conv2D + RNN model. Also remember that the last layer is the softmax. Design the network in such a way that the model is able to give good accuracy on the least number of parameters so that it can fit in the memory of the webcam."
      ]
    },
    {
      "cell_type": "code",
      "execution_count": 71,
      "metadata": {
        "id": "Js5t8_vzG7t2"
      },
      "outputs": [],
      "source": [
        "from keras.models import Sequential, Model\n",
        "from keras.layers import Dense, GRU, Flatten, TimeDistributed, Flatten, BatchNormalization, Activation\n",
        "from keras.layers.convolutional import Conv3D, MaxPooling3D\n",
        "from keras.callbacks import ModelCheckpoint, ReduceLROnPlateau\n",
        "from keras import optimizers\n",
        "\n",
        "model = Sequential()\n",
        "\n",
        "# Input\n",
        "model.add(Conv3D(32, kernel_size=(3,3,3), input_shape = (30, 120, 160, 1), padding = 'same'))\n",
        "model.add(Activation('relu'))\n",
        "model.add(BatchNormalization())\n",
        "model.add(MaxPooling3D(pool_size = (2, 2, 2)))\n",
        "\n",
        "# Convolution\n",
        "model.add(Conv3D(64, kernel_size=(3,3,3), padding ='same'))\n",
        "model.add(Activation('relu'))\n",
        "model.add(BatchNormalization())\n",
        "model.add(MaxPooling3D(pool_size=(2,2,2)))\n",
        "\n",
        "# Flatten layer\n",
        "model.add(Flatten())\n",
        "\n",
        "# Fully connected layers\n",
        "model.add(Dense(256, activation='relu'))\n",
        "model.add(BatchNormalization())\n",
        "model.add(Dense(5, activation = 'softmax'))\n",
        "\n",
        "\n"
      ]
    },
    {
      "cell_type": "markdown",
      "metadata": {
        "id": "RQnCMQvdG7t2"
      },
      "source": [
        "Now that you have written the model, the next step is to `compile` the model. When you print the `summary` of the model, you'll see the total number of parameters you have to train."
      ]
    },
    {
      "cell_type": "code",
      "execution_count": 72,
      "metadata": {
        "id": "cVIBST2yG7t2",
        "scrolled": true
      },
      "outputs": [
        {
          "name": "stdout",
          "output_type": "stream",
          "text": [
            "Model: \"sequential_7\"\n",
            "_________________________________________________________________\n",
            " Layer (type)                Output Shape              Param #   \n",
            "=================================================================\n",
            " conv3d_14 (Conv3D)          (None, 30, 120, 160, 32)  896       \n",
            "                                                                 \n",
            " activation_14 (Activation)  (None, 30, 120, 160, 32)  0         \n",
            "                                                                 \n",
            " batch_normalization_21 (Bat  (None, 30, 120, 160, 32)  128      \n",
            " chNormalization)                                                \n",
            "                                                                 \n",
            " max_pooling3d_14 (MaxPoolin  (None, 15, 60, 80, 32)   0         \n",
            " g3D)                                                            \n",
            "                                                                 \n",
            " conv3d_15 (Conv3D)          (None, 15, 60, 80, 64)    55360     \n",
            "                                                                 \n",
            " activation_15 (Activation)  (None, 15, 60, 80, 64)    0         \n",
            "                                                                 \n",
            " batch_normalization_22 (Bat  (None, 15, 60, 80, 64)   256       \n",
            " chNormalization)                                                \n",
            "                                                                 \n",
            " max_pooling3d_15 (MaxPoolin  (None, 7, 30, 40, 64)    0         \n",
            " g3D)                                                            \n",
            "                                                                 \n",
            " flatten_7 (Flatten)         (None, 537600)            0         \n",
            "                                                                 \n",
            " dense_14 (Dense)            (None, 256)               137625856 \n",
            "                                                                 \n",
            " batch_normalization_23 (Bat  (None, 256)              1024      \n",
            " chNormalization)                                                \n",
            "                                                                 \n",
            " dense_15 (Dense)            (None, 5)                 1285      \n",
            "                                                                 \n",
            "=================================================================\n",
            "Total params: 137,684,805\n",
            "Trainable params: 137,684,101\n",
            "Non-trainable params: 704\n",
            "_________________________________________________________________\n"
          ]
        }
      ],
      "source": [
        "# Compile the model\n",
        "model.compile(optimizer='adam', loss='categorical_crossentropy', metrics=['accuracy'])\n",
        "\n",
        "model.summary()"
      ]
    },
    {
      "cell_type": "markdown",
      "metadata": {
        "id": "ENXy-0EPG7t3"
      },
      "source": [
        "Let us create the `train_generator` and the `val_generator` which will be used in `.fit_generator`."
      ]
    },
    {
      "cell_type": "code",
      "execution_count": 73,
      "metadata": {
        "id": "sy-S2riXG7t3"
      },
      "outputs": [],
      "source": [
        "train_generator = generator(train_path, train_doc, batch_size)\n",
        "val_generator = generator(val_path, val_doc, batch_size)"
      ]
    },
    {
      "cell_type": "code",
      "execution_count": 74,
      "metadata": {
        "id": "nKs25Tc2G7t3"
      },
      "outputs": [],
      "source": [
        "model_name = 'model_init' + '_' + str(curr_dt_time).replace(' ','').replace(':','_') + '/'\n",
        "\n",
        "if not os.path.exists(model_name):\n",
        "    os.mkdir(model_name)\n",
        "\n",
        "filepath = model_name + 'model-{epoch:05d}-{loss:.5f}-{accuracy:.5f}-{val_loss:.5f}-{val_accuracy:.5f}.h5'\n",
        "\n",
        "checkpoint = ModelCheckpoint(filepath, monitor='val_loss', verbose=1, save_best_only=False, save_weights_only=False, mode='auto', save_frequency=1)\n",
        "\n",
        "LR = ReduceLROnPlateau(monitor='val_loss', factor=0.1, patience=5, min_lr=0.0001, verbose =1 )\n",
        "callbacks_list = [checkpoint, LR]"
      ]
    },
    {
      "cell_type": "markdown",
      "metadata": {
        "id": "U5etBlIUG7t3"
      },
      "source": [
        "The `steps_per_epoch` and `validation_steps` are used by `fit_generator` to decide the number of next() calls it need to make."
      ]
    },
    {
      "cell_type": "code",
      "execution_count": 75,
      "metadata": {
        "id": "-giWupn0G7t3"
      },
      "outputs": [],
      "source": [
        "if (num_train_sequences%batch_size) == 0:\n",
        "    steps_per_epoch = int(num_train_sequences/batch_size)\n",
        "else:\n",
        "    steps_per_epoch = (num_train_sequences//batch_size) + 1\n",
        "\n",
        "if (num_val_sequences%batch_size) == 0:\n",
        "    validation_steps = int(num_val_sequences/batch_size)\n",
        "else:\n",
        "    validation_steps = (num_val_sequences//batch_size) + 1"
      ]
    },
    {
      "cell_type": "markdown",
      "metadata": {
        "id": "XPFfK-GlG7t3"
      },
      "source": [
        "Let us now fit the model. This will start training the model and with the help of the checkpoints, you'll be able to save the model at the end of each epoch."
      ]
    },
    {
      "cell_type": "code",
      "execution_count": 76,
      "metadata": {
        "id": "xpqG2SJGG7t3"
      },
      "outputs": [
        {
          "name": "stdout",
          "output_type": "stream",
          "text": [
            "Source path =  notebooks/storage/Final_data/Collated_training/train ; batch size = 8\n",
            "Epoch 1/10\n",
            "83/83 [==============================] - ETA: 0s - loss: 1.6989 - accuracy: 0.4471Source path =  notebooks/storage/Final_data/Collated_training/val ; batch size = 8\n",
            "\n",
            "Epoch 00001: saving model to model_init_2023-11-1606_23_09.874220/model-00001-1.69892-0.44713-35.21339-0.22115.h5\n",
            "83/83 [==============================] - 142s 2s/step - loss: 1.6989 - accuracy: 0.4471 - val_loss: 35.2134 - val_accuracy: 0.2212 - lr: 0.0010\n",
            "Epoch 2/10\n",
            "83/83 [==============================] - ETA: 0s - loss: 0.8182 - accuracy: 0.7050\n",
            "Epoch 00002: saving model to model_init_2023-11-1606_23_09.874220/model-00002-0.81823-0.70499-0.00000-1.00000.h5\n",
            "83/83 [==============================] - 118s 1s/step - loss: 0.8182 - accuracy: 0.7050 - val_loss: 0.0000e+00 - val_accuracy: 1.0000 - lr: 0.0010\n",
            "Epoch 3/10\n",
            "83/83 [==============================] - ETA: 0s - loss: 0.5015 - accuracy: 0.8502\n",
            "Epoch 00003: saving model to model_init_2023-11-1606_23_09.874220/model-00003-0.50149-0.85023-218.66441-0.34000.h5\n",
            "83/83 [==============================] - 132s 2s/step - loss: 0.5015 - accuracy: 0.8502 - val_loss: 218.6644 - val_accuracy: 0.3400 - lr: 0.0010\n",
            "Epoch 4/10\n",
            "83/83 [==============================] - ETA: 0s - loss: 0.3906 - accuracy: 0.8716\n",
            "Epoch 00004: saving model to model_init_2023-11-1606_23_09.874220/model-00004-0.39064-0.87160-29.74563-0.89423.h5\n",
            "83/83 [==============================] - 116s 1s/step - loss: 0.3906 - accuracy: 0.8716 - val_loss: 29.7456 - val_accuracy: 0.8942 - lr: 0.0010\n",
            "Epoch 5/10\n",
            "83/83 [==============================] - ETA: 0s - loss: 0.2409 - accuracy: 0.9349\n",
            "Epoch 00005: saving model to model_init_2023-11-1606_23_09.874220/model-00005-0.24089-0.93495-61.45842-0.56000.h5\n",
            "83/83 [==============================] - 128s 2s/step - loss: 0.2409 - accuracy: 0.9349 - val_loss: 61.4584 - val_accuracy: 0.5600 - lr: 0.0010\n",
            "Epoch 6/10\n",
            "83/83 [==============================] - ETA: 0s - loss: 0.1474 - accuracy: 0.9637\n",
            "Epoch 00006: saving model to model_init_2023-11-1606_23_09.874220/model-00006-0.14739-0.96369-14.95054-0.74038.h5\n",
            "83/83 [==============================] - 122s 1s/step - loss: 0.1474 - accuracy: 0.9637 - val_loss: 14.9505 - val_accuracy: 0.7404 - lr: 0.0010\n",
            "Epoch 7/10\n",
            "83/83 [==============================] - ETA: 0s - loss: 0.1989 - accuracy: 0.9305\n",
            "Epoch 00007: saving model to model_init_2023-11-1606_23_09.874220/model-00007-0.19885-0.93051-12.50295-0.73000.h5\n",
            "\n",
            "Epoch 00007: ReduceLROnPlateau reducing learning rate to 0.00010000000474974513.\n",
            "83/83 [==============================] - 125s 2s/step - loss: 0.1989 - accuracy: 0.9305 - val_loss: 12.5029 - val_accuracy: 0.7300 - lr: 0.0010\n",
            "Epoch 8/10\n",
            "83/83 [==============================] - ETA: 0s - loss: 0.3856 - accuracy: 0.8669\n",
            "Epoch 00008: saving model to model_init_2023-11-1606_23_09.874220/model-00008-0.38560-0.86687-1.82667-0.67308.h5\n",
            "83/83 [==============================] - 124s 2s/step - loss: 0.3856 - accuracy: 0.8669 - val_loss: 1.8267 - val_accuracy: 0.6731 - lr: 1.0000e-04\n",
            "Epoch 9/10\n",
            "83/83 [==============================] - ETA: 0s - loss: 0.2182 - accuracy: 0.9259\n",
            "Epoch 00009: saving model to model_init_2023-11-1606_23_09.874220/model-00009-0.21824-0.92587-0.12283-0.96000.h5\n",
            "83/83 [==============================] - 117s 1s/step - loss: 0.2182 - accuracy: 0.9259 - val_loss: 0.1228 - val_accuracy: 0.9600 - lr: 1.0000e-04\n",
            "Epoch 10/10\n",
            "83/83 [==============================] - ETA: 0s - loss: 0.1012 - accuracy: 0.9834\n",
            "Epoch 00010: saving model to model_init_2023-11-1606_23_09.874220/model-00010-0.10118-0.98338-0.93724-0.50962.h5\n",
            "83/83 [==============================] - 140s 2s/step - loss: 0.1012 - accuracy: 0.9834 - val_loss: 0.9372 - val_accuracy: 0.5096 - lr: 1.0000e-04\n"
          ]
        },
        {
          "data": {
            "text/plain": [
              "<keras.callbacks.History at 0x7fee2d7fc700>"
            ]
          },
          "execution_count": 76,
          "metadata": {},
          "output_type": "execute_result"
        }
      ],
      "source": [
        "model.fit(train_generator, steps_per_epoch=steps_per_epoch, epochs=num_epochs, verbose=1,\n",
        "                    callbacks=callbacks_list, validation_data=val_generator,\n",
        "                    validation_steps=validation_steps, class_weight=None, workers=1, initial_epoch=0)"
      ]
    },
    {
      "cell_type": "code",
      "execution_count": 77,
      "metadata": {
        "id": "YdGrLMCtG7t3"
      },
      "outputs": [],
      "source": [
        "model.save('gesture_recog.h5')\n"
      ]
    },
    {
      "cell_type": "markdown",
      "metadata": {},
      "source": [
        "### Evaluate the model"
      ]
    },
    {
      "cell_type": "code",
      "execution_count": 79,
      "metadata": {},
      "outputs": [
        {
          "name": "stdout",
          "output_type": "stream",
          "text": [
            "13/13 [==============================] - 20s 2s/step - loss: 1.1381 - accuracy: 0.6000\n",
            "Validation Accuracy : 0.6000000238418579\n"
          ]
        }
      ],
      "source": [
        "from keras.models import load_model\n",
        "\n",
        "loaded_model  = load_model('gesture_recog.h5')\n",
        "\n",
        "evaluation = loaded_model.evaluate(val_generator, steps = validation_steps)\n",
        "\n",
        "accuracy = evaluation[1]\n",
        "\n",
        "print(f\"Validation Accuracy : {accuracy}\")"
      ]
    }
  ],
  "metadata": {
    "colab": {
      "include_colab_link": true,
      "provenance": []
    },
    "kernelspec": {
      "display_name": "Python 3 (ipykernel)",
      "language": "python",
      "name": "python3"
    },
    "language_info": {
      "codemirror_mode": {
        "name": "ipython",
        "version": 3
      },
      "file_extension": ".py",
      "mimetype": "text/x-python",
      "name": "python",
      "nbconvert_exporter": "python",
      "pygments_lexer": "ipython3",
      "version": "3.8.10"
    }
  },
  "nbformat": 4,
  "nbformat_minor": 0
}
